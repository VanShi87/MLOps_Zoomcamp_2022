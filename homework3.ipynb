{
 "cells": [
  {
   "cell_type": "code",
   "execution_count": 6,
   "id": "7525e867",
   "metadata": {},
   "outputs": [],
   "source": [
    "import pickle\n",
    "from datetime import datetime\n",
    "from dateutil.relativedelta import relativedelta\n",
    "\n",
    "import mlflow\n",
    "import pandas as pd\n",
    "from sklearn.feature_extraction import DictVectorizer\n",
    "from sklearn.linear_model import LinearRegression\n",
    "from sklearn.metrics import mean_squared_error\n",
    "from prefect import flow, task, get_run_logger\n",
    "from prefect.task_runners import SequentialTaskRunner\n",
    "from prefect.deployments import DeploymentSpec\n",
    "from prefect.orion.schemas.schedules import CronSchedule\n",
    "from prefect.flow_runners import SubprocessFlowRunner"
   ]
  },
  {
   "cell_type": "code",
   "execution_count": 7,
   "id": "77b61f29",
   "metadata": {},
   "outputs": [],
   "source": [
    "@task(name=\"path getting\")\n",
    "def get_paths(date: str) -> tuple[str, str]:\n",
    "    if date:\n",
    "        date = datetime.strptime(date, '%Y-%m-%d')\n",
    "    else:\n",
    "        date = datetime.today()\n",
    "\n",
    "    train_date = date - relativedelta(months=2)\n",
    "    val_date = date - relativedelta(months=1)\n",
    "    train_path = f'./data/fhv_tripdata_{train_date:%Y-%m}.parquet'\n",
    "    val_path = f'./data/fhv_tripdata_{val_date:%Y-%m}.parquet'\n",
    "\n",
    "    return train_path, val_path"
   ]
  },
  {
   "cell_type": "code",
   "execution_count": 8,
   "id": "7a70df86",
   "metadata": {},
   "outputs": [],
   "source": [
    "@task(name=\"data reading\")\n",
    "def read_data(path: str) -> pd.DataFrame:\n",
    "    df = pd.read_parquet(path)\n",
    "    return df"
   ]
  },
  {
   "cell_type": "code",
   "execution_count": 9,
   "id": "2e1aa200",
   "metadata": {},
   "outputs": [],
   "source": [
    "@task(name=\"feature preparing\")\n",
    "def prepare_features(df: pd.DataFrame, categorical: list[str], train: bool = True) -> pd.DataFrame:\n",
    "    \n",
    "    logger = get_run_logger()\n",
    "    df['duration'] = df.dropOff_datetime - df.pickup_datetime\n",
    "    df['duration'] = df.duration.dt.total_seconds() / 60\n",
    "    df = df[(df.duration >= 1) & (df.duration <= 60)].copy()\n",
    "\n",
    "    mean_duration = df.duration.mean()\n",
    "    if train:\n",
    "        logger.info(f\"The mean duration of training is {mean_duration}\")\n",
    "    else:\n",
    "        logger.info(f\"The mean duration of validation is {mean_duration}\")\n",
    "    \n",
    "    df[categorical] = df[categorical].fillna(-1).astype('int').astype('str')\n",
    "    return df"
   ]
  },
  {
   "cell_type": "code",
   "execution_count": 10,
   "id": "22c6495b",
   "metadata": {},
   "outputs": [],
   "source": [
    "@task(name=\"training\")\n",
    "def train_model(df: pd.DataFrame, categorical: list[str]) -> tuple[LinearRegression, DictVectorizer]:\n",
    "\n",
    "    logger = get_run_logger()\n",
    "    train_dicts = df[categorical].to_dict(orient='records')\n",
    "    dv = DictVectorizer()\n",
    "    X_train = dv.fit_transform(train_dicts) \n",
    "    y_train = df.duration.values\n",
    "\n",
    "    logger.info(f\"The shape of X_train is {X_train.shape}\")\n",
    "    logger.info(f\"The DictVectorizer has {len(dv.feature_names_)} features\")\n",
    "\n",
    "    lr = LinearRegression()\n",
    "    lr.fit(X_train, y_train)\n",
    "    y_pred = lr.predict(X_train)\n",
    "    mse = mean_squared_error(y_train, y_pred, squared=False)\n",
    "    logger.info(f\"The MSE of training is: {mse}\")\n",
    "    return lr, dv"
   ]
  },
  {
   "cell_type": "code",
   "execution_count": 11,
   "id": "12fcfa04",
   "metadata": {},
   "outputs": [],
   "source": [
    "@task(name=\"validation\")\n",
    "def run_model(df: pd.DataFrame, categorical: list[str], dv: DictVectorizer, lr: LinearRegression) -> None:\n",
    "    \n",
    "    logger = get_run_logger()\n",
    "    val_dicts = df[categorical].to_dict(orient='records')\n",
    "    X_val = dv.transform(val_dicts) \n",
    "    y_pred = lr.predict(X_val)\n",
    "    y_val = df.duration.values\n",
    "\n",
    "    mse = mean_squared_error(y_val, y_pred, squared=False)\n",
    "    logger.info(f\"The MSE of validation is: {mse}\")\n",
    "    return"
   ]
  },
  {
   "cell_type": "code",
   "execution_count": 12,
   "id": "0606301f",
   "metadata": {},
   "outputs": [],
   "source": [
    "@flow(task_runner=SequentialTaskRunner())\n",
    "def main(date: str = None) -> None:\n",
    "    mlflow.set_tracking_uri('sqlite:///mlflow.db')\n",
    "    mlflow.set_experiment('hw3')\n",
    "    \n",
    "    with mlflow.start_run():\n",
    "        train_path, val_path = get_paths(date).result()\n",
    "        categorical = ['PUlocationID', 'DOlocationID']\n",
    "        df_train = read_data(train_path)\n",
    "        df_train_processed = prepare_features(df_train, categorical)\n",
    "        df_val = read_data(val_path)\n",
    "        df_val_processed = prepare_features(df_val, categorical)\n",
    "        lr, dv = train_model(df_train_processed, categorical).result()\n",
    "        run_model(df_val_processed, categorical, dv, lr)\n",
    "        with open(f\"models/dv-{date}.b\", \"wb\") as f_out:\n",
    "            pickle.dump(dv, f_out)\n",
    "        with open(f\"models/model-{date}.bin\", \"wb\") as f_out:\n",
    "            pickle.dump(lr, f_out)\n",
    "        mlflow.log_artifact(f\"models/dv-{date}.b\", artifact_path=\"preprocessor\")\n",
    "        mlflow.sklearn.log_model(lr, artifact_path=f\"models/model-{date}.bin\")\n",
    "    \n",
    "    "
   ]
  },
  {
   "cell_type": "code",
   "execution_count": 14,
   "id": "c81c6737",
   "metadata": {
    "scrolled": true
   },
   "outputs": [
    {
     "data": {
      "text/plain": [
       "DeploymentSpec(name='prefect', flow=<prefect.flows.Flow object at 0x7f2a4024f610>, flow_name=None, flow_location=None, flow_storage=None, parameters=None, schedule=CronSchedule(cron='0 9 15 * *', timezone=None, day_or=True), tags=['orchestration'], flow_runner=UniversalFlowRunner(typename='universal', env={}))"
      ]
     },
     "execution_count": 14,
     "metadata": {},
     "output_type": "execute_result"
    }
   ],
   "source": [
    "DeploymentSpec(\n",
    "    flow=main,\n",
    "    name='prefect',\n",
    "    schedule=CronSchedule(cron='0 9 15 * *'),\n",
    "    flow_runner=SubprocessFlowRunner(),\n",
    "    tags=['orchestration']\n",
    ")"
   ]
  },
  {
   "cell_type": "code",
   "execution_count": 55,
   "id": "aeaf7bad",
   "metadata": {
    "scrolled": true
   },
   "outputs": [
    {
     "name": "stderr",
     "output_type": "stream",
     "text": [
      "INFO  [alembic.runtime.migration] Context impl SQLiteImpl.\n",
      "INFO  [alembic.runtime.migration] Will assume non-transactional DDL.\n",
      "22:15:28.640 | INFO    | prefect.engine - Created flow run 'inquisitive-skylark' for flow 'main'\n",
      "22:15:28.645 | INFO    | Flow run 'inquisitive-skylark' - Using task runner 'SequentialTaskRunner'\n",
      "22:15:28.689 | WARNING | Flow run 'inquisitive-skylark' - No default storage is configured on the server. Results from this flow run will be stored in a temporary directory in its runtime environment.\n",
      "22:15:28.891 | INFO    | Flow run 'inquisitive-skylark' - Created task run 'path getting-0fafd328-3' for task 'path getting'\n",
      "22:15:29.016 | INFO    | Task run 'path getting-0fafd328-3' - Finished in state Completed()\n",
      "22:15:29.057 | INFO    | Flow run 'inquisitive-skylark' - Created task run 'data reading-7eb2586d-6' for task 'data reading'\n",
      "22:15:32.740 | INFO    | Task run 'data reading-7eb2586d-6' - Finished in state Completed()\n",
      "22:15:32.774 | INFO    | Flow run 'inquisitive-skylark' - Created task run 'feature preparing-543bd73d-6' for task 'feature preparing'\n",
      "22:15:33.030 | INFO    | Task run 'feature preparing-543bd73d-6' - The mean duration of training is 18.230538791569113\n",
      "22:15:38.284 | INFO    | Task run 'feature preparing-543bd73d-6' - Finished in state Completed()\n",
      "22:15:38.320 | INFO    | Flow run 'inquisitive-skylark' - Created task run 'data reading-7eb2586d-7' for task 'data reading'\n",
      "22:15:41.655 | INFO    | Task run 'data reading-7eb2586d-7' - Finished in state Completed()\n",
      "22:15:41.701 | INFO    | Flow run 'inquisitive-skylark' - Created task run 'feature preparing-543bd73d-7' for task 'feature preparing'\n",
      "22:15:41.923 | INFO    | Task run 'feature preparing-543bd73d-7' - The mean duration of training is 17.91113046137945\n",
      "22:15:47.107 | INFO    | Task run 'feature preparing-543bd73d-7' - Finished in state Completed()\n",
      "22:15:47.139 | INFO    | Flow run 'inquisitive-skylark' - Created task run 'training-fbd9ad61-3' for task 'training'\n",
      "22:15:51.087 | INFO    | Task run 'training-fbd9ad61-3' - The shape of X_train is (1222031, 525)\n",
      "22:15:51.088 | INFO    | Task run 'training-fbd9ad61-3' - The DictVectorizer has 525 features\n",
      "22:15:59.140 | INFO    | Task run 'training-fbd9ad61-3' - The MSE of training is: 11.789353676756486\n",
      "22:15:59.311 | INFO    | Task run 'training-fbd9ad61-3' - Finished in state Completed()\n",
      "22:15:59.339 | INFO    | Flow run 'inquisitive-skylark' - Created task run 'validation-735af421-2' for task 'validation'\n",
      "22:16:02.960 | INFO    | Task run 'validation-735af421-2' - The MSE of validation is: 11.637032331753268\n",
      "22:16:03.063 | INFO    | Task run 'validation-735af421-2' - Finished in state Completed()\n",
      "22:16:09.988 | INFO    | Flow run 'inquisitive-skylark' - Finished in state Completed('All states completed.')\n"
     ]
    },
    {
     "data": {
      "text/plain": [
       "Completed(message='All states completed.', type=COMPLETED, result=[Completed(message=None, type=COMPLETED, result=('./data/fhv_tripdata_2021-06.parquet', './data/fhv_tripdata_2021-07.parquet'), task_run_id=36d8dfad-14c5-41c6-8308-c03924e6cc08), Completed(message=None, type=COMPLETED, result=        dispatching_base_num     pickup_datetime    dropOff_datetime  \\\n",
       "0                     B00021 2021-06-01 00:40:51 2021-06-01 00:50:22   \n",
       "1                     B00021 2021-06-01 00:51:23 2021-06-01 01:19:01   \n",
       "2                     B00021 2021-06-01 00:07:10 2021-06-01 00:17:34   \n",
       "3                     B00021 2021-06-01 00:22:08 2021-06-01 00:27:22   \n",
       "4                     B00021 2021-06-01 00:59:06 2021-06-01 01:06:58   \n",
       "...                      ...                 ...                 ...   \n",
       "1311341               B03321 2021-06-30 23:00:00 2021-06-30 23:45:00   \n",
       "1311342               B03321 2021-06-30 23:00:00 2021-06-30 23:35:00   \n",
       "1311343               B03340 2021-06-30 23:00:00 2021-06-30 23:58:00   \n",
       "1311344               B03340 2021-06-30 23:10:00 2021-06-30 23:37:00   \n",
       "1311345               B03381 2021-06-30 23:02:21 2021-06-30 23:23:45   \n",
       "\n",
       "         PUlocationID  DOlocationID SR_Flag Affiliated_base_number   duration  \n",
       "0               173.0         173.0    None        B00021            9.516667  \n",
       "1               173.0          36.0    None        B00021           27.633333  \n",
       "2               173.0         129.0    None        B00021           10.400000  \n",
       "3                82.0          82.0    None        B00021            5.233333  \n",
       "4                56.0         173.0    None        B00021            7.866667  \n",
       "...               ...           ...     ...                    ...        ...  \n",
       "1311341           NaN           NaN    None                 B03321  45.000000  \n",
       "1311342           NaN           NaN    None                 B03323  35.000000  \n",
       "1311343           NaN           NaN    None                 B02866  58.000000  \n",
       "1311344           NaN           NaN    None                 B03233  27.000000  \n",
       "1311345           NaN          49.0    None                 B02492  21.400000  \n",
       "\n",
       "[1311346 rows x 8 columns], task_run_id=fe326ab7-b399-467f-a45e-a94927655f59), Completed(message=None, type=COMPLETED, result=        dispatching_base_num     pickup_datetime    dropOff_datetime  \\\n",
       "0                     B00021 2021-06-01 00:40:51 2021-06-01 00:50:22   \n",
       "1                     B00021 2021-06-01 00:51:23 2021-06-01 01:19:01   \n",
       "2                     B00021 2021-06-01 00:07:10 2021-06-01 00:17:34   \n",
       "3                     B00021 2021-06-01 00:22:08 2021-06-01 00:27:22   \n",
       "4                     B00021 2021-06-01 00:59:06 2021-06-01 01:06:58   \n",
       "...                      ...                 ...                 ...   \n",
       "1311341               B03321 2021-06-30 23:00:00 2021-06-30 23:45:00   \n",
       "1311342               B03321 2021-06-30 23:00:00 2021-06-30 23:35:00   \n",
       "1311343               B03340 2021-06-30 23:00:00 2021-06-30 23:58:00   \n",
       "1311344               B03340 2021-06-30 23:10:00 2021-06-30 23:37:00   \n",
       "1311345               B03381 2021-06-30 23:02:21 2021-06-30 23:23:45   \n",
       "\n",
       "        PUlocationID DOlocationID SR_Flag Affiliated_base_number   duration  \n",
       "0                173          173    None        B00021            9.516667  \n",
       "1                173           36    None        B00021           27.633333  \n",
       "2                173          129    None        B00021           10.400000  \n",
       "3                 82           82    None        B00021            5.233333  \n",
       "4                 56          173    None        B00021            7.866667  \n",
       "...              ...          ...     ...                    ...        ...  \n",
       "1311341           -1           -1    None                 B03321  45.000000  \n",
       "1311342           -1           -1    None                 B03323  35.000000  \n",
       "1311343           -1           -1    None                 B02866  58.000000  \n",
       "1311344           -1           -1    None                 B03233  27.000000  \n",
       "1311345           -1           49    None                 B02492  21.400000  \n",
       "\n",
       "[1222031 rows x 8 columns], task_run_id=121be522-a5f9-465b-ac56-fa9ea672a6ce), Completed(message=None, type=COMPLETED, result=        dispatching_base_num     pickup_datetime    dropOff_datetime  \\\n",
       "0                     B00014 2021-07-01 00:31:02 2021-07-01 01:10:00   \n",
       "1                     B00021 2021-07-01 00:25:29 2021-07-01 00:39:00   \n",
       "2                     B00021 2021-07-01 00:59:14 2021-07-01 01:14:38   \n",
       "3                     B00021 2021-07-01 00:39:30 2021-07-01 00:50:28   \n",
       "4                     B00021 2021-07-01 00:12:34 2021-07-01 00:24:13   \n",
       "...                      ...                 ...                 ...   \n",
       "1240009      B03285          2021-07-31 23:31:02 2021-08-01 00:24:21   \n",
       "1240010               B03299 2021-07-31 23:01:18 2021-07-31 23:15:54   \n",
       "1240011               B03299 2021-07-31 23:19:30 2021-07-31 23:29:43   \n",
       "1240012               B03299 2021-07-31 23:53:49 2021-08-01 00:08:08   \n",
       "1240013               B03381 2021-07-31 23:27:49 2021-07-31 23:54:07   \n",
       "\n",
       "         PUlocationID  DOlocationID SR_Flag Affiliated_base_number   duration  \n",
       "0                 NaN           NaN    None                 B00608  38.966667  \n",
       "1                82.0         129.0    None        B00021           13.516667  \n",
       "2               129.0         129.0    None        B00021           15.400000  \n",
       "3               260.0           7.0    None        B00021           10.966667  \n",
       "4                82.0          82.0    None        B00021           11.650000  \n",
       "...               ...           ...     ...                    ...        ...  \n",
       "1240009         252.0          85.0    None        B03285           53.316667  \n",
       "1240010           NaN         188.0    None                 B03299  14.600000  \n",
       "1240011           NaN          61.0    None                 B03299  10.216667  \n",
       "1240012           NaN         189.0    None                 B03299  14.316667  \n",
       "1240013           NaN         257.0    None                 B02844  26.300000  \n",
       "\n",
       "[1240014 rows x 8 columns], task_run_id=ffaa7bb2-7234-4794-9ca0-04b41e369f2f), Completed(message=None, type=COMPLETED, result=        dispatching_base_num     pickup_datetime    dropOff_datetime  \\\n",
       "0                     B00014 2021-07-01 00:31:02 2021-07-01 01:10:00   \n",
       "1                     B00021 2021-07-01 00:25:29 2021-07-01 00:39:00   \n",
       "2                     B00021 2021-07-01 00:59:14 2021-07-01 01:14:38   \n",
       "3                     B00021 2021-07-01 00:39:30 2021-07-01 00:50:28   \n",
       "4                     B00021 2021-07-01 00:12:34 2021-07-01 00:24:13   \n",
       "...                      ...                 ...                 ...   \n",
       "1240009      B03285          2021-07-31 23:31:02 2021-08-01 00:24:21   \n",
       "1240010               B03299 2021-07-31 23:01:18 2021-07-31 23:15:54   \n",
       "1240011               B03299 2021-07-31 23:19:30 2021-07-31 23:29:43   \n",
       "1240012               B03299 2021-07-31 23:53:49 2021-08-01 00:08:08   \n",
       "1240013               B03381 2021-07-31 23:27:49 2021-07-31 23:54:07   \n",
       "\n",
       "        PUlocationID DOlocationID SR_Flag Affiliated_base_number   duration  \n",
       "0                 -1           -1    None                 B00608  38.966667  \n",
       "1                 82          129    None        B00021           13.516667  \n",
       "2                129          129    None        B00021           15.400000  \n",
       "3                260            7    None        B00021           10.966667  \n",
       "4                 82           82    None        B00021           11.650000  \n",
       "...              ...          ...     ...                    ...        ...  \n",
       "1240009          252           85    None        B03285           53.316667  \n",
       "1240010           -1          188    None                 B03299  14.600000  \n",
       "1240011           -1           61    None                 B03299  10.216667  \n",
       "1240012           -1          189    None                 B03299  14.316667  \n",
       "1240013           -1          257    None                 B02844  26.300000  \n",
       "\n",
       "[1158468 rows x 8 columns], task_run_id=601c723d-8225-4e9b-9d6c-d5fd09398291), Completed(message=None, type=COMPLETED, result=(LinearRegression(), DictVectorizer()), task_run_id=8c8f46c9-59cd-4cee-8cab-85bc3b126f36), Completed(message=None, type=COMPLETED, result=None, task_run_id=fb595a28-480a-4cbe-b47b-33c17a46885b)], flow_run_id=5cef51a1-0b72-43d4-bf6a-62a97cfd9b1e)"
      ]
     },
     "execution_count": 55,
     "metadata": {},
     "output_type": "execute_result"
    }
   ],
   "source": [
    "main(\"2021-08-15\")"
   ]
  },
  {
   "cell_type": "code",
   "execution_count": null,
   "id": "75199886",
   "metadata": {},
   "outputs": [],
   "source": []
  },
  {
   "cell_type": "code",
   "execution_count": null,
   "id": "4d7f1e4b",
   "metadata": {},
   "outputs": [],
   "source": []
  },
  {
   "cell_type": "code",
   "execution_count": null,
   "id": "d61318d0",
   "metadata": {},
   "outputs": [],
   "source": []
  },
  {
   "cell_type": "code",
   "execution_count": null,
   "id": "1aa5f5c2",
   "metadata": {},
   "outputs": [],
   "source": []
  },
  {
   "cell_type": "code",
   "execution_count": null,
   "id": "41c08294",
   "metadata": {},
   "outputs": [],
   "source": []
  },
  {
   "cell_type": "code",
   "execution_count": null,
   "id": "4854399a",
   "metadata": {},
   "outputs": [],
   "source": []
  },
  {
   "cell_type": "code",
   "execution_count": null,
   "id": "f9eea69f",
   "metadata": {},
   "outputs": [],
   "source": []
  },
  {
   "cell_type": "code",
   "execution_count": null,
   "id": "669fda0a",
   "metadata": {},
   "outputs": [],
   "source": []
  },
  {
   "cell_type": "code",
   "execution_count": null,
   "id": "7f8f950d",
   "metadata": {},
   "outputs": [],
   "source": []
  },
  {
   "cell_type": "code",
   "execution_count": null,
   "id": "8f129850",
   "metadata": {},
   "outputs": [],
   "source": []
  },
  {
   "cell_type": "code",
   "execution_count": null,
   "id": "8a277ab9",
   "metadata": {},
   "outputs": [],
   "source": []
  },
  {
   "cell_type": "code",
   "execution_count": null,
   "id": "b5108416",
   "metadata": {},
   "outputs": [],
   "source": []
  }
 ],
 "metadata": {
  "kernelspec": {
   "display_name": "Python 3",
   "language": "python",
   "name": "python3"
  },
  "language_info": {
   "codemirror_mode": {
    "name": "ipython",
    "version": 3
   },
   "file_extension": ".py",
   "mimetype": "text/x-python",
   "name": "python",
   "nbconvert_exporter": "python",
   "pygments_lexer": "ipython3",
   "version": "3.9.12"
  }
 },
 "nbformat": 4,
 "nbformat_minor": 5
}
