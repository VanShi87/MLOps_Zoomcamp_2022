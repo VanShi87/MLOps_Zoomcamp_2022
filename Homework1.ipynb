{
  "cells": [
    {
      "cell_type": "code",
      "source": [
        "!wget https://nyc-tlc.s3.amazonaws.com/trip+data/fhv_tripdata_2021-01.parquet -O jan21.parquet\n",
        "!wget https://nyc-tlc.s3.amazonaws.com/trip+data/fhv_tripdata_2021-02.parquet -O feb21.parquet\n"
      ],
      "metadata": {
        "id": "tb65wq0ausD-",
        "outputId": "5e984e3c-a889-4a91-911b-013cc00bc02f",
        "colab": {
          "base_uri": "https://localhost:8080/"
        }
      },
      "id": "tb65wq0ausD-",
      "execution_count": 1,
      "outputs": [
        {
          "output_type": "stream",
          "name": "stdout",
          "text": [
            "--2022-05-19 21:04:44--  https://nyc-tlc.s3.amazonaws.com/trip+data/fhv_tripdata_2021-01.parquet\n",
            "Resolving nyc-tlc.s3.amazonaws.com (nyc-tlc.s3.amazonaws.com)... 52.216.93.171\n",
            "Connecting to nyc-tlc.s3.amazonaws.com (nyc-tlc.s3.amazonaws.com)|52.216.93.171|:443... connected.\n",
            "HTTP request sent, awaiting response... 200 OK\n",
            "Length: 11886281 (11M) [binary/octet-stream]\n",
            "Saving to: ‘jan21.parquet’\n",
            "\n",
            "jan21.parquet       100%[===================>]  11.33M  18.0MB/s    in 0.6s    \n",
            "\n",
            "2022-05-19 21:04:45 (18.0 MB/s) - ‘jan21.parquet’ saved [11886281/11886281]\n",
            "\n",
            "--2022-05-19 21:04:45--  https://nyc-tlc.s3.amazonaws.com/trip+data/fhv_tripdata_2021-02.parquet\n",
            "Resolving nyc-tlc.s3.amazonaws.com (nyc-tlc.s3.amazonaws.com)... 52.216.93.171\n",
            "Connecting to nyc-tlc.s3.amazonaws.com (nyc-tlc.s3.amazonaws.com)|52.216.93.171|:443... connected.\n",
            "HTTP request sent, awaiting response... 200 OK\n",
            "Length: 10645466 (10M) [binary/octet-stream]\n",
            "Saving to: ‘feb21.parquet’\n",
            "\n",
            "feb21.parquet       100%[===================>]  10.15M  16.2MB/s    in 0.6s    \n",
            "\n",
            "2022-05-19 21:04:46 (16.2 MB/s) - ‘feb21.parquet’ saved [10645466/10645466]\n",
            "\n"
          ]
        }
      ]
    },
    {
      "cell_type": "code",
      "execution_count": 2,
      "id": "41062d8a",
      "metadata": {
        "id": "41062d8a"
      },
      "outputs": [],
      "source": [
        "import pandas as pd\n",
        "from sklearn.feature_extraction import DictVectorizer\n",
        "from sklearn.linear_model import LinearRegression\n",
        "from sklearn.metrics import mean_squared_error\n",
        "from sklearn.base import BaseEstimator"
      ]
    },
    {
      "cell_type": "code",
      "source": [
        "def read_parquet(filename: str) -> pd.DataFrame:\n",
        "  df = pd.read_parquet(filename)\n",
        "  print(f'DataFrame shape - {df.shape}', df.columns, sep='\\n')\n",
        "  df['duration'] = df.dropOff_datetime - df.pickup_datetime\n",
        "  df.duration = df.duration.apply(lambda td: td.total_seconds() / 60)\n",
        "  print(f'Mean duration - {df.duration.mean()}')\n",
        "  df = df[(df.duration>=1) & (df.duration<=60)]\n",
        "  df['PUlocationID'] = df['PUlocationID'].fillna(-1)\n",
        "  df['DOlocationID'] = df['DOlocationID'].fillna(-1)\n",
        "  print(f'Fraction of NA PUlocationID = {len(df[df.PUlocationID == -1])/len(df)}')\n",
        "  categorical = ['PUlocationID', 'DOlocationID']\n",
        "  df[categorical] = df[categorical].astype(str)\n",
        "  return df"
      ],
      "metadata": {
        "id": "usoZz1V36oHT"
      },
      "id": "usoZz1V36oHT",
      "execution_count": 3,
      "outputs": []
    },
    {
      "cell_type": "code",
      "source": [
        "def train_and_val(model: BaseEstimator, train_df: pd.DataFrame, val_df: pd.DataFrame = None):\n",
        "  train_dicts = train_df[features].to_dict(orient='records')\n",
        "  dv = DictVectorizer()\n",
        "  X_train = dv.fit_transform(train_dicts)\n",
        "  print(f'Train feature shape - {X_train.shape}')\n",
        "  y_train = train_df[target].values\n",
        "  model.fit(X_train, y_train)\n",
        "  print(f'Train RMSE - {mean_squared_error(y_train, model.predict(X_train), squared=False)}')\n",
        "  if val_df is not None:\n",
        "    val_dicts = val_df[features].to_dict(orient='records')\n",
        "    X_val = dv.transform(val_dicts)\n",
        "    y_val = val_df[target].values\n",
        "    print(f'Validation RMSE - {mean_squared_error(y_val, model.predict(X_val), squared=False)}')\n",
        " "
      ],
      "metadata": {
        "id": "5CEIBRoe_PT8"
      },
      "id": "5CEIBRoe_PT8",
      "execution_count": 4,
      "outputs": []
    },
    {
      "cell_type": "code",
      "source": [
        "train_df = read_parquet('./jan21.parquet')\n",
        "val_df = read_parquet('./feb21.parquet')\n"
      ],
      "metadata": {
        "id": "vRhnq1yDxvnH",
        "outputId": "c872c6ab-b749-4c9c-80ea-d89540296ecf",
        "colab": {
          "base_uri": "https://localhost:8080/"
        }
      },
      "id": "vRhnq1yDxvnH",
      "execution_count": 5,
      "outputs": [
        {
          "output_type": "stream",
          "name": "stdout",
          "text": [
            "DataFrame shape - (1154112, 7)\n",
            "Index(['dispatching_base_num', 'pickup_datetime', 'dropOff_datetime',\n",
            "       'PUlocationID', 'DOlocationID', 'SR_Flag', 'Affiliated_base_number'],\n",
            "      dtype='object')\n",
            "Mean duration - 19.1672240937939\n",
            "Fraction of NA PUlocationID = 0.8352732770722617\n",
            "DataFrame shape - (1037692, 7)\n",
            "Index(['dispatching_base_num', 'pickup_datetime', 'dropOff_datetime',\n",
            "       'PUlocationID', 'DOlocationID', 'SR_Flag', 'Affiliated_base_number'],\n",
            "      dtype='object')\n",
            "Mean duration - 20.70698622520125\n",
            "Fraction of NA PUlocationID = 0.8571354986754037\n"
          ]
        }
      ]
    },
    {
      "cell_type": "code",
      "execution_count": 6,
      "id": "116ff0cc",
      "metadata": {
        "id": "116ff0cc",
        "outputId": "67b26b45-7579-4b2b-aa15-0dcd1ac93a7e",
        "colab": {
          "base_uri": "https://localhost:8080/"
        }
      },
      "outputs": [
        {
          "output_type": "stream",
          "name": "stdout",
          "text": [
            "Train feature shape - (1109826, 525)\n",
            "Train RMSE - 10.528519107210744\n",
            "Validation RMSE - 11.014283196111764\n"
          ]
        }
      ],
      "source": [
        "features = ['PUlocationID', 'DOlocationID']\n",
        "target = 'duration'\n",
        "lr = LinearRegression()\n",
        "train_and_val(lr, train_df, val_df)"
      ]
    },
    {
      "cell_type": "code",
      "execution_count": 6,
      "id": "47b0eb9b",
      "metadata": {
        "id": "47b0eb9b"
      },
      "outputs": [],
      "source": [
        ""
      ]
    }
  ],
  "metadata": {
    "kernelspec": {
      "display_name": "Python 3 (ipykernel)",
      "language": "python",
      "name": "python3"
    },
    "language_info": {
      "codemirror_mode": {
        "name": "ipython",
        "version": 3
      },
      "file_extension": ".py",
      "mimetype": "text/x-python",
      "name": "python",
      "nbconvert_exporter": "python",
      "pygments_lexer": "ipython3",
      "version": "3.9.7"
    },
    "colab": {
      "name": "duration-prediction.ipynb",
      "provenance": []
    }
  },
  "nbformat": 4,
  "nbformat_minor": 5
}